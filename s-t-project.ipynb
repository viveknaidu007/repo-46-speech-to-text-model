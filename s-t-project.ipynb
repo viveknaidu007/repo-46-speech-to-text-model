{
 "cells": [
  {
   "cell_type": "code",
   "execution_count": 1,
   "metadata": {},
   "outputs": [
    {
     "name": "stdout",
     "output_type": "stream",
     "text": [
      "Requirement already satisfied: SpeechRecognition in c:\\users\\poppo\\anaconda3\\envs\\genai\\lib\\site-packages (3.10.1)\n",
      "Requirement already satisfied: requests>=2.26.0 in c:\\users\\poppo\\anaconda3\\envs\\genai\\lib\\site-packages (from SpeechRecognition) (2.31.0)\n",
      "Requirement already satisfied: typing-extensions in c:\\users\\poppo\\anaconda3\\envs\\genai\\lib\\site-packages (from SpeechRecognition) (4.9.0)\n",
      "Requirement already satisfied: charset-normalizer<4,>=2 in c:\\users\\poppo\\anaconda3\\envs\\genai\\lib\\site-packages (from requests>=2.26.0->SpeechRecognition) (3.3.2)\n",
      "Requirement already satisfied: idna<4,>=2.5 in c:\\users\\poppo\\anaconda3\\envs\\genai\\lib\\site-packages (from requests>=2.26.0->SpeechRecognition) (3.6)\n",
      "Requirement already satisfied: urllib3<3,>=1.21.1 in c:\\users\\poppo\\anaconda3\\envs\\genai\\lib\\site-packages (from requests>=2.26.0->SpeechRecognition) (2.2.0)\n",
      "Requirement already satisfied: certifi>=2017.4.17 in c:\\users\\poppo\\anaconda3\\envs\\genai\\lib\\site-packages (from requests>=2.26.0->SpeechRecognition) (2024.2.2)\n"
     ]
    }
   ],
   "source": [
    "!pip install SpeechRecognition\n"
   ]
  },
  {
   "cell_type": "code",
   "execution_count": 3,
   "metadata": {},
   "outputs": [
    {
     "name": "stdout",
     "output_type": "stream",
     "text": [
      "Listening...\n",
      "Recognizing...\n",
      "You said: hello this is Vivek actually I am from Andhra Pradesh currently located in Rajahmundry I am nearby place with like a village and we can go to some movies and etc we can do there are always near by in our village and there are lot of funds to me and etc while coming together as it was taking so many childhood memories will come into our villages like that extra while coming\n",
      "Listening...\n",
      "Recognizing...\n",
      "You said: where we can check network I will continue while coming to my education I have done in Computer Science and Engineering and after that I have done specialisation in data science and machine learning which will come to know data science is growing rapidly using the data and analysis the company can take their decisions for which would save the millions of money and the directly they can implement the products to the market like that extra we can do in this data analysis you know there are how many big companies like Zomato with me and say there are Flipkart Amazon lot of data is generating daily using the big data we can extract the relevant information from it and we can check the analysis using this data science while coming to this machine learning we know we can check the predictions except using this numerical data we can give the trend algorithm we know Logistic regression linear regression random forest these are already trend algorithm by the researchers and we can just give a data we are injecting to the algorithm and it will produce the output\n",
      "Listening...\n",
      "Recognizing...\n",
      "You said: the second output where can I check the whatever I told it was giving good implementation\n",
      "Listening...\n",
      "Recognizing...\n",
      "You said: abhi Iske currently implement this many companies are using API keys we know\n",
      "Listening...\n",
      "Recognizing...\n",
      "You said: text to image\n",
      "Listening...\n",
      "Recognizing...\n",
      "You said: client we have to do we have to do proper model using the IP address we have to give the API keys using this API key we can give the prompt according to our details about 98 I will implement in next project\n",
      "Listening...\n",
      "Recognizing...\n",
      "You said: skills in English\n",
      "Listening...\n",
      "Recognizing...\n"
     ]
    },
    {
     "ename": "KeyboardInterrupt",
     "evalue": "",
     "output_type": "error",
     "traceback": [
      "\u001b[1;31m---------------------------------------------------------------------------\u001b[0m",
      "\u001b[1;31mKeyboardInterrupt\u001b[0m                         Traceback (most recent call last)",
      "Cell \u001b[1;32mIn[3], line 45\u001b[0m\n\u001b[0;32m     42\u001b[0m \u001b[38;5;66;03m# infinite loop to continuously listen for speech input\u001b[39;00m\n\u001b[0;32m     43\u001b[0m \u001b[38;5;28;01mwhile\u001b[39;00m \u001b[38;5;28;01mTrue\u001b[39;00m:\n\u001b[0;32m     44\u001b[0m     \u001b[38;5;66;03m# call the speech recognition function to convert audio to text\u001b[39;00m\n\u001b[1;32m---> 45\u001b[0m     text \u001b[38;5;241m=\u001b[39m \u001b[43mrecognize_speech_from_mic\u001b[49m\u001b[43m(\u001b[49m\u001b[43mrecognizer\u001b[49m\u001b[43m,\u001b[49m\u001b[43m \u001b[49m\u001b[43mmicrophone\u001b[49m\u001b[43m)\u001b[49m\n\u001b[0;32m     46\u001b[0m     \u001b[38;5;66;03m# check if text is recognized\u001b[39;00m\n\u001b[0;32m     47\u001b[0m     \u001b[38;5;28;01mif\u001b[39;00m text:\n\u001b[0;32m     48\u001b[0m         \u001b[38;5;66;03m# print the recognized text\u001b[39;00m\n",
      "Cell \u001b[1;32mIn[3], line 23\u001b[0m, in \u001b[0;36mrecognize_speech_from_mic\u001b[1;34m(recognizer, microphone)\u001b[0m\n\u001b[0;32m     21\u001b[0m \u001b[38;5;28mprint\u001b[39m(\u001b[38;5;124m\"\u001b[39m\u001b[38;5;124mRecognizing...\u001b[39m\u001b[38;5;124m\"\u001b[39m)\n\u001b[0;32m     22\u001b[0m \u001b[38;5;66;03m# use Google's Speech Recognition API to convert audio to text\u001b[39;00m\n\u001b[1;32m---> 23\u001b[0m text \u001b[38;5;241m=\u001b[39m \u001b[43mrecognizer\u001b[49m\u001b[38;5;241;43m.\u001b[39;49m\u001b[43mrecognize_google\u001b[49m\u001b[43m(\u001b[49m\u001b[43maudio\u001b[49m\u001b[43m)\u001b[49m\n\u001b[0;32m     24\u001b[0m \u001b[38;5;66;03m# return the recognized text\u001b[39;00m\n\u001b[0;32m     25\u001b[0m \u001b[38;5;28;01mreturn\u001b[39;00m text\n",
      "File \u001b[1;32mc:\\Users\\poppo\\anaconda3\\envs\\genai\\Lib\\site-packages\\speech_recognition\\recognizers\\google.py:244\u001b[0m, in \u001b[0;36mrecognize_legacy\u001b[1;34m(recognizer, audio_data, key, language, pfilter, show_all, with_confidence)\u001b[0m\n\u001b[0;32m    239\u001b[0m request_builder \u001b[38;5;241m=\u001b[39m create_request_builder(\n\u001b[0;32m    240\u001b[0m     key\u001b[38;5;241m=\u001b[39mkey, language\u001b[38;5;241m=\u001b[39mlanguage, filter_level\u001b[38;5;241m=\u001b[39mpfilter\n\u001b[0;32m    241\u001b[0m )\n\u001b[0;32m    242\u001b[0m request \u001b[38;5;241m=\u001b[39m request_builder\u001b[38;5;241m.\u001b[39mbuild(audio_data)\n\u001b[1;32m--> 244\u001b[0m response_text \u001b[38;5;241m=\u001b[39m \u001b[43mobtain_transcription\u001b[49m\u001b[43m(\u001b[49m\n\u001b[0;32m    245\u001b[0m \u001b[43m    \u001b[49m\u001b[43mrequest\u001b[49m\u001b[43m,\u001b[49m\u001b[43m \u001b[49m\u001b[43mtimeout\u001b[49m\u001b[38;5;241;43m=\u001b[39;49m\u001b[43mrecognizer\u001b[49m\u001b[38;5;241;43m.\u001b[39;49m\u001b[43moperation_timeout\u001b[49m\n\u001b[0;32m    246\u001b[0m \u001b[43m\u001b[49m\u001b[43m)\u001b[49m\n\u001b[0;32m    248\u001b[0m output_parser \u001b[38;5;241m=\u001b[39m OutputParser(\n\u001b[0;32m    249\u001b[0m     show_all\u001b[38;5;241m=\u001b[39mshow_all, with_confidence\u001b[38;5;241m=\u001b[39mwith_confidence\n\u001b[0;32m    250\u001b[0m )\n\u001b[0;32m    251\u001b[0m \u001b[38;5;28;01mreturn\u001b[39;00m output_parser\u001b[38;5;241m.\u001b[39mparse(response_text)\n",
      "File \u001b[1;32mc:\\Users\\poppo\\anaconda3\\envs\\genai\\Lib\\site-packages\\speech_recognition\\recognizers\\google.py:212\u001b[0m, in \u001b[0;36mobtain_transcription\u001b[1;34m(request, timeout)\u001b[0m\n\u001b[0;32m    208\u001b[0m \u001b[38;5;28;01mexcept\u001b[39;00m URLError \u001b[38;5;28;01mas\u001b[39;00m e:\n\u001b[0;32m    209\u001b[0m     \u001b[38;5;28;01mraise\u001b[39;00m RequestError(\n\u001b[0;32m    210\u001b[0m         \u001b[38;5;124m\"\u001b[39m\u001b[38;5;124mrecognition connection failed: \u001b[39m\u001b[38;5;132;01m{}\u001b[39;00m\u001b[38;5;124m\"\u001b[39m\u001b[38;5;241m.\u001b[39mformat(e\u001b[38;5;241m.\u001b[39mreason)\n\u001b[0;32m    211\u001b[0m     )\n\u001b[1;32m--> 212\u001b[0m \u001b[38;5;28;01mreturn\u001b[39;00m \u001b[43mresponse\u001b[49m\u001b[38;5;241;43m.\u001b[39;49m\u001b[43mread\u001b[49m\u001b[43m(\u001b[49m\u001b[43m)\u001b[49m\u001b[38;5;241m.\u001b[39mdecode(\u001b[38;5;124m\"\u001b[39m\u001b[38;5;124mutf-8\u001b[39m\u001b[38;5;124m\"\u001b[39m)\n",
      "File \u001b[1;32mc:\\Users\\poppo\\anaconda3\\envs\\genai\\Lib\\http\\client.py:473\u001b[0m, in \u001b[0;36mHTTPResponse.read\u001b[1;34m(self, amt)\u001b[0m\n\u001b[0;32m    470\u001b[0m     \u001b[38;5;28;01mreturn\u001b[39;00m \u001b[38;5;124mb\u001b[39m\u001b[38;5;124m\"\u001b[39m\u001b[38;5;124m\"\u001b[39m\n\u001b[0;32m    472\u001b[0m \u001b[38;5;28;01mif\u001b[39;00m \u001b[38;5;28mself\u001b[39m\u001b[38;5;241m.\u001b[39mchunked:\n\u001b[1;32m--> 473\u001b[0m     \u001b[38;5;28;01mreturn\u001b[39;00m \u001b[38;5;28;43mself\u001b[39;49m\u001b[38;5;241;43m.\u001b[39;49m\u001b[43m_read_chunked\u001b[49m\u001b[43m(\u001b[49m\u001b[43mamt\u001b[49m\u001b[43m)\u001b[49m\n\u001b[0;32m    475\u001b[0m \u001b[38;5;28;01mif\u001b[39;00m amt \u001b[38;5;129;01mis\u001b[39;00m \u001b[38;5;129;01mnot\u001b[39;00m \u001b[38;5;28;01mNone\u001b[39;00m:\n\u001b[0;32m    476\u001b[0m     \u001b[38;5;28;01mif\u001b[39;00m \u001b[38;5;28mself\u001b[39m\u001b[38;5;241m.\u001b[39mlength \u001b[38;5;129;01mis\u001b[39;00m \u001b[38;5;129;01mnot\u001b[39;00m \u001b[38;5;28;01mNone\u001b[39;00m \u001b[38;5;129;01mand\u001b[39;00m amt \u001b[38;5;241m>\u001b[39m \u001b[38;5;28mself\u001b[39m\u001b[38;5;241m.\u001b[39mlength:\n\u001b[0;32m    477\u001b[0m         \u001b[38;5;66;03m# clip the read to the \"end of response\"\u001b[39;00m\n",
      "File \u001b[1;32mc:\\Users\\poppo\\anaconda3\\envs\\genai\\Lib\\http\\client.py:595\u001b[0m, in \u001b[0;36mHTTPResponse._read_chunked\u001b[1;34m(self, amt)\u001b[0m\n\u001b[0;32m    593\u001b[0m value \u001b[38;5;241m=\u001b[39m []\n\u001b[0;32m    594\u001b[0m \u001b[38;5;28;01mtry\u001b[39;00m:\n\u001b[1;32m--> 595\u001b[0m     \u001b[38;5;28;01mwhile\u001b[39;00m (chunk_left \u001b[38;5;241m:=\u001b[39m \u001b[38;5;28;43mself\u001b[39;49m\u001b[38;5;241;43m.\u001b[39;49m\u001b[43m_get_chunk_left\u001b[49m\u001b[43m(\u001b[49m\u001b[43m)\u001b[49m) \u001b[38;5;129;01mis\u001b[39;00m \u001b[38;5;129;01mnot\u001b[39;00m \u001b[38;5;28;01mNone\u001b[39;00m:\n\u001b[0;32m    596\u001b[0m         \u001b[38;5;28;01mif\u001b[39;00m amt \u001b[38;5;129;01mis\u001b[39;00m \u001b[38;5;129;01mnot\u001b[39;00m \u001b[38;5;28;01mNone\u001b[39;00m \u001b[38;5;129;01mand\u001b[39;00m amt \u001b[38;5;241m<\u001b[39m\u001b[38;5;241m=\u001b[39m chunk_left:\n\u001b[0;32m    597\u001b[0m             value\u001b[38;5;241m.\u001b[39mappend(\u001b[38;5;28mself\u001b[39m\u001b[38;5;241m.\u001b[39m_safe_read(amt))\n",
      "File \u001b[1;32mc:\\Users\\poppo\\anaconda3\\envs\\genai\\Lib\\http\\client.py:579\u001b[0m, in \u001b[0;36mHTTPResponse._get_chunk_left\u001b[1;34m(self)\u001b[0m\n\u001b[0;32m    577\u001b[0m     \u001b[38;5;28mself\u001b[39m\u001b[38;5;241m.\u001b[39m_safe_read(\u001b[38;5;241m2\u001b[39m)  \u001b[38;5;66;03m# toss the CRLF at the end of the chunk\u001b[39;00m\n\u001b[0;32m    578\u001b[0m \u001b[38;5;28;01mtry\u001b[39;00m:\n\u001b[1;32m--> 579\u001b[0m     chunk_left \u001b[38;5;241m=\u001b[39m \u001b[38;5;28;43mself\u001b[39;49m\u001b[38;5;241;43m.\u001b[39;49m\u001b[43m_read_next_chunk_size\u001b[49m\u001b[43m(\u001b[49m\u001b[43m)\u001b[49m\n\u001b[0;32m    580\u001b[0m \u001b[38;5;28;01mexcept\u001b[39;00m \u001b[38;5;167;01mValueError\u001b[39;00m:\n\u001b[0;32m    581\u001b[0m     \u001b[38;5;28;01mraise\u001b[39;00m IncompleteRead(\u001b[38;5;124mb\u001b[39m\u001b[38;5;124m'\u001b[39m\u001b[38;5;124m'\u001b[39m)\n",
      "File \u001b[1;32mc:\\Users\\poppo\\anaconda3\\envs\\genai\\Lib\\http\\client.py:539\u001b[0m, in \u001b[0;36mHTTPResponse._read_next_chunk_size\u001b[1;34m(self)\u001b[0m\n\u001b[0;32m    537\u001b[0m \u001b[38;5;28;01mdef\u001b[39;00m \u001b[38;5;21m_read_next_chunk_size\u001b[39m(\u001b[38;5;28mself\u001b[39m):\n\u001b[0;32m    538\u001b[0m     \u001b[38;5;66;03m# Read the next chunk size from the file\u001b[39;00m\n\u001b[1;32m--> 539\u001b[0m     line \u001b[38;5;241m=\u001b[39m \u001b[38;5;28;43mself\u001b[39;49m\u001b[38;5;241;43m.\u001b[39;49m\u001b[43mfp\u001b[49m\u001b[38;5;241;43m.\u001b[39;49m\u001b[43mreadline\u001b[49m\u001b[43m(\u001b[49m\u001b[43m_MAXLINE\u001b[49m\u001b[43m \u001b[49m\u001b[38;5;241;43m+\u001b[39;49m\u001b[43m \u001b[49m\u001b[38;5;241;43m1\u001b[39;49m\u001b[43m)\u001b[49m\n\u001b[0;32m    540\u001b[0m     \u001b[38;5;28;01mif\u001b[39;00m \u001b[38;5;28mlen\u001b[39m(line) \u001b[38;5;241m>\u001b[39m _MAXLINE:\n\u001b[0;32m    541\u001b[0m         \u001b[38;5;28;01mraise\u001b[39;00m LineTooLong(\u001b[38;5;124m\"\u001b[39m\u001b[38;5;124mchunk size\u001b[39m\u001b[38;5;124m\"\u001b[39m)\n",
      "File \u001b[1;32mc:\\Users\\poppo\\anaconda3\\envs\\genai\\Lib\\socket.py:707\u001b[0m, in \u001b[0;36mSocketIO.readinto\u001b[1;34m(self, b)\u001b[0m\n\u001b[0;32m    705\u001b[0m \u001b[38;5;28;01mwhile\u001b[39;00m \u001b[38;5;28;01mTrue\u001b[39;00m:\n\u001b[0;32m    706\u001b[0m     \u001b[38;5;28;01mtry\u001b[39;00m:\n\u001b[1;32m--> 707\u001b[0m         \u001b[38;5;28;01mreturn\u001b[39;00m \u001b[38;5;28;43mself\u001b[39;49m\u001b[38;5;241;43m.\u001b[39;49m\u001b[43m_sock\u001b[49m\u001b[38;5;241;43m.\u001b[39;49m\u001b[43mrecv_into\u001b[49m\u001b[43m(\u001b[49m\u001b[43mb\u001b[49m\u001b[43m)\u001b[49m\n\u001b[0;32m    708\u001b[0m     \u001b[38;5;28;01mexcept\u001b[39;00m timeout:\n\u001b[0;32m    709\u001b[0m         \u001b[38;5;28mself\u001b[39m\u001b[38;5;241m.\u001b[39m_timeout_occurred \u001b[38;5;241m=\u001b[39m \u001b[38;5;28;01mTrue\u001b[39;00m\n",
      "\u001b[1;31mKeyboardInterrupt\u001b[0m: "
     ]
    }
   ],
   "source": [
    "# import the required libraries\n",
    "\n",
    "\n",
    "import speech_recognition as sr\n",
    "\n",
    "\n",
    "\n",
    "# define a function to recognize speech from the microphone\n",
    "def recognize_speech_from_mic(recognizer, microphone):\n",
    "    # use the microphone as the audio source\n",
    "    with microphone as source:\n",
    "        # prompt the user that the program is listening\n",
    "        print(\"Listening...\")\n",
    "        # adjust for ambient noise to improve speech recognition accuracy\n",
    "        recognizer.adjust_for_ambient_noise(source)\n",
    "        # capture the audio input\n",
    "        audio = recognizer.listen(source , timeout=10)    #\n",
    "        \n",
    "    try:\n",
    "        # prompt the user that the program is recognizing the speech\n",
    "        print(\"Recognizing...\")\n",
    "        # use Google's Speech Recognition API to convert audio to text\n",
    "        text = recognizer.recognize_google(audio)\n",
    "        # return the recognized text\n",
    "        return text\n",
    "    except sr.UnknownValueError:\n",
    "        # handle the case where speech cannot be recognized\n",
    "        print(\"Sorry, I could not understand what you said.\")\n",
    "    except sr.RequestError as e:\n",
    "        # handle the case where there's an error in accessing the speech recognition service\n",
    "        print(f\"Sorry, an error occurred while requesting Google Speech Recognition service: {e}\")\n",
    "    # return an empty string if no text is recognized\n",
    "    return \"\"\n",
    "\n",
    "# entry point of the script\n",
    "if __name__ == \"__main__\":\n",
    "    # create a speech recognizer object\n",
    "    recognizer = sr.Recognizer()\n",
    "    # create a microphone object to capture audio input\n",
    "    microphone = sr.Microphone()\n",
    "\n",
    "    # infinite loop to continuously listen for speech input\n",
    "    while True:\n",
    "        # call the speech recognition function to convert audio to text\n",
    "        text = recognize_speech_from_mic(recognizer, microphone)\n",
    "        # check if text is recognized\n",
    "        if text:\n",
    "            # print the recognized text\n",
    "            print(\"You said:\", text)\n"
   ]
  },
  {
   "cell_type": "code",
   "execution_count": null,
   "metadata": {},
   "outputs": [],
   "source": [
    "#for getting the output only for one time i will close the program\n",
    "\n",
    "'''\n",
    "import speech_recognition as sr\n",
    "\n",
    "# define a function to recognize speech from the microphone\n",
    "def recognize_speech_from_mic(recognizer, microphone):\n",
    "    # use the microphone as the audio source\n",
    "    with microphone as source:\n",
    "        # prompt the user that the program is listening\n",
    "        print(\"Listening...\")\n",
    "        # adjust for ambient noise to improve speech recognition accuracy\n",
    "        recognizer.adjust_for_ambient_noise(source)\n",
    "        # capture the audio input\n",
    "        audio = recognizer.listen(source)\n",
    "        \n",
    "    try:\n",
    "        # prompt the user that the program is recognizing the speech\n",
    "        print(\"Recognizing...\")\n",
    "        # use Google's Speech Recognition API to convert audio to text\n",
    "        text = recognizer.recognize_google(audio)\n",
    "        # print the recognized text\n",
    "        print(\"You said:\", text)\n",
    "    except sr.UnknownValueError:\n",
    "        # handle the case where speech cannot be recognized\n",
    "        print(\"Sorry, I could not understand what you said.\")\n",
    "    except sr.RequestError as e:\n",
    "        # handle the case where there's an error in accessing the speech recognition service\n",
    "        print(f\"Sorry, an error occurred while requesting Google Speech Recognition service: {e}\")\n",
    "\n",
    "# entry point of the script\n",
    "if __name__ == \"__main__\":\n",
    "    # create a speech recognizer object\n",
    "    recognizer = sr.Recognizer()\n",
    "    # create a microphone object to capture audio input\n",
    "    microphone = sr.Microphone()\n",
    "\n",
    "    # call the speech recognition function to convert audio to text\n",
    "    recognize_speech_from_mic(recognizer, microphone)\n",
    "\n",
    "    '''\n"
   ]
  },
  {
   "cell_type": "code",
   "execution_count": null,
   "metadata": {},
   "outputs": [],
   "source": []
  },
  {
   "cell_type": "markdown",
   "metadata": {},
   "source": []
  }
 ],
 "metadata": {
  "kernelspec": {
   "display_name": "genai",
   "language": "python",
   "name": "python3"
  },
  "language_info": {
   "codemirror_mode": {
    "name": "ipython",
    "version": 3
   },
   "file_extension": ".py",
   "mimetype": "text/x-python",
   "name": "python",
   "nbconvert_exporter": "python",
   "pygments_lexer": "ipython3",
   "version": "3.12.1"
  }
 },
 "nbformat": 4,
 "nbformat_minor": 2
}
